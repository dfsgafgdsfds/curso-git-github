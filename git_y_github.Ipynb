{
 "cells": [
  {
   "attachments": {},
   "cell_type": "markdown",
   "metadata": {},
   "source": [
    "#### conceptos basicos\n",
    "- `Git` nos permite gestionar proyectos de desarrollo de software y controlo de versiones usando git y se trabaja de forma local\n",
    "- `Github` servicio de hosting que nos permite almacenar proyectos de desarrollo de software y controlo de versiones usando git\n",
    "- `version control:` sistema encargado de administrar los cambios realizados en programas de computadora o conjunto de archivos\n",
    "- `repository:` coleccion de archivos de distintas versiones de un proyecto<br>\n",
    "-local: en tu computadora (Git) <br>\n",
    "-remoto: en el servidor (Github)\n",
    "- `commit:`son como un registro o \"foto\" del estado de un proyecto en un momento especifico\n",
    "- `git bash:` herramientas que te permite ejecutar comandos de Git. Es una linea de comandos"
   ]
  },
  {
   "attachments": {},
   "cell_type": "markdown",
   "metadata": {},
   "source": [
    "<style type=\"text/css\">\n",
    "    * {\n",
    "        background: black;\n",
    "        border-radius: 10px;\n",
    "    }\n",
    "</style>\n",
    "#### descarga Git\n",
    "- `pagina de descarga:` git-scm.com\n",
    "#### comandos git bash\n",
    "- `cd` (change directory) Ej: cd documents.<br>\n",
    "-si el nombre de la carpeta tiene espacios \"encerrar entre comillas\" por esa razon usar guion en los nombres<br>\n",
    "-cd .. la cantidad de puntos indica que tanto volver en el directorio\n",
    "- `mkdir` (make directory) crear una carpeta nueva\n",
    "- `ls` ver contenido del directorio\n",
    "- `rmdir` remove directory\n",
    "- `clear` limpia el contenido de la consola\n",
    "- `git status` similar a ls pero nos muestra el estado de nuestros archivos Ej:si staged pendientes o no tenemos nada cargado\n",
    "- `git add` para agregar un archivo al staged. Ej: git add nombre-archivo\n",
    "- `git add .` se utuliza para agregar los archivos que detecta que han sido modificados (a modo de atajo)\n",
    "- `git rm --cached nombre-archivo` para remover el archivo agregado al staged\n",
    "- `git commit -m mensaje` \n",
    "- `git log` ver historial de commit"
   ]
  },
  {
   "attachments": {},
   "cell_type": "markdown",
   "metadata": {},
   "source": [
    "<style type=\"text/css\">\n",
    "    * {\n",
    "        background: black;\n",
    "        border-radius: 12px;\n",
    "    }\n",
    "</style>\n",
    "#### configurar correo y usuario\n",
    "- `git config --global user.name \"nombre del usuario\"`para cofigurar repositorio\n",
    "- `git config --global user.name` para saber que nobre esta asociado\n",
    "- `git config --global user.email \"correo\"` para configurar repositorio (no usar correo personal)\n",
    "- `git config user.email` para saber que correo est asociado"
   ]
  },
  {
   "attachments": {},
   "cell_type": "markdown",
   "metadata": {},
   "source": [
    "#### crear repositorio\n",
    "- nos ubicamos en nuestra carpeta con `cd` y luego creamos nuestra carpeta con `mkdir`\n",
    "- `git init` inicializar un nuevo repositorio dentro de la carpeta asignada (en la consola debera aparecer en azul \"main\" a lado de nuestra direccion)\n",
    "- `git config --global init.defaultBranch nombre-rama` para cambiar el nombre que viene por defecto de la rama"
   ]
  },
  {
   "attachments": {},
   "cell_type": "markdown",
   "metadata": {},
   "source": [
    "## las 3 areas de git\n",
    "- `directorio de trabajo` (modified) son los archivos en nuestra PC donde realizamos los cambios, aun no son parte del repositorio y no se ha añadido al area al staged\n",
    "- `area de trabajo` (staged) es el area donde preparamos los archivos, aun no son parte del repositorio y pueden ser modificados\n",
    "- ` repositorio` (committed) una ves realizado todos los cambios le damos un commit para efectuar los cambios en el repositorio que se encuentra en el directorio .git"
   ]
  },
  {
   "attachments": {},
   "cell_type": "markdown",
   "metadata": {},
   "source": [
    "## estado de los archivos en VSC \n",
    "- `U` solamente esta en nuestro directorio de trabajo\n",
    "- `A` cuando hacemos un git add y pasa staged\n",
    "- `M` cuando el archivo a sido modificado previamente\n",
    "- `ninguna letra` cuando ya hicimos un commit y pasa a .git"
   ]
  },
  {
   "attachments": {},
   "cell_type": "markdown",
   "metadata": {},
   "source": [
    "## commit\n",
    "- registran los cambios que se realizaron en los archivosen comparacion con la version anterior\n",
    "## crear commit\n",
    "- `git commit -m mensaje` metodo sencillo"
   ]
  }
 ],
 "metadata": {
  "language_info": {
   "name": "python"
  },
  "orig_nbformat": 4
 },
 "nbformat": 4,
 "nbformat_minor": 2
}
