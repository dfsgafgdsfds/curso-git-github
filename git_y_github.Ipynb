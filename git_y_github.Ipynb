{
 "cells": [
  {
   "attachments": {},
   "cell_type": "markdown",
   "metadata": {},
   "source": [
    "<style type=\"text/css\">\n",
    "    * {\n",
    "        border-radius: 12px;\n",
    "        margin: 2px;\n",
    "    }\n",
    "</style>\n",
    "## conceptos basicos\n",
    "- `Git` nos permite gestionar proyectos de desarrollo de software y controlo de versiones usando git y se trabaja de forma local\n",
    "- `Github` servicio de hosting que nos permite almacenar proyectos de desarrollo de software y controlo de versiones usando git\n",
    "- `version control:` sistema encargado de administrar los cambios realizados en programas de computadora o conjunto de archivos\n",
    "- `repository:` coleccion de archivos de distintas versiones de un proyecto<br>\n",
    "-local: en tu computadora (Git) <br>\n",
    "-remoto: en el servidor (Github)\n",
    "- `commit:`son como un registro o \"foto\" del estado de un proyecto en un momento especifico\n",
    "- `git bash:` herramientas que te permite ejecutar comandos de Git. Es una linea de comandos"
   ]
  },
  {
   "attachments": {},
   "cell_type": "markdown",
   "metadata": {},
   "source": [
    "<style type=\"text/css\">\n",
    "    div {\n",
    "        background: black;\n",
    "        border-radius: 10px;\n",
    "        padding: 5px 15px 15px 15px;\n",
    "    }\n",
    "</style>\n",
    "<div>\n",
    "\n",
    "## descarga Git\n",
    "- `pagina de descarga:` git-scm.com\n",
    "## comandos git bash\n",
    "- `cd` (change directory) Ej: cd documents.<br>\n",
    "-si el nombre de la carpeta tiene espacios \"encerrar entre comillas\" por esa razon usar guion en los nombres<br>\n",
    "-cd .. la cantidad de puntos indica que tanto volver en el directorio\n",
    "- `mkdir nombre-archivo` (make directory) crear una carpeta nueva\n",
    "- `ls` ver contenido del directorio\n",
    "- `rmdir nombre-archivo` remove directory\n",
    "- `clear` limpia el contenido de la consola\n",
    "- `git status` similar a ls pero nos muestra el estado de nuestros archivos Ej:si staged pendientes o no tenemos nada cargado\n",
    "- `git add nombre-archivo` para agregar un archivo al staged. Ej: git add nombre-archivo\n",
    "- `git add .` se utuliza para agregar los archivos que detecta que han sido modificados (a modo de atajo)\n",
    "- `git rm --cached nombre-archivo` para remover el archivo agregado al staged\n",
    "- `git commit` al realizar el commit, en VSC se abrira un archivo de texto en el cual escribiremos en la primera linea el titulo de lo que hemos modificado y abajo un mensaje descriptivo de los prosesos que hemos realizado\n",
    "- `git commit -m mensaje` hacer un commit agrando un mensaje rapido (no es la forma correcta de utilizar)\n",
    "- `git commit --amend` modificar un commit que ya fue efectuado\n",
    "- `git reset --soft HEAD~1` nos permite hacer un reset del registro del ultimo commit(el numero se refiere a cual de los commit queremos llegar)\n",
    "- `git log` ver historial de commit\n",
    "- `git log --oneline` para visualizar un resumen de los commit\n",
    "- `git log -p` nos muestra una comparacion de lo que fue modificado\n",
    "</div>"
   ]
  },
  {
   "attachments": {},
   "cell_type": "markdown",
   "metadata": {},
   "source": [
    "<style type=\"text/css\">\n",
    "    * {\n",
    "        background: black;\n",
    "        border-radius: 12px;\n",
    "        margin: 2px;\n",
    "    }\n",
    "</style>\n",
    "## configurar correo y usuario\n",
    "- `git config --global user.name \"nombre del usuario\"`para cofigurar repositorio\n",
    "- `git config --global user.name` para saber que nobre esta asociado\n",
    "- `git config --global user.email \"correo\"` para configurar repositorio (no usar correo personal)\n",
    "- `git config user.email` para saber que correo esta asociado\n",
    "## ocultar correo:\n",
    "- en github en la seccion \"setings-email-primary email address\" github nos provee de un email para utilizar"
   ]
  },
  {
   "attachments": {},
   "cell_type": "markdown",
   "metadata": {},
   "source": [
    "<style type=\"text/css\">\n",
    "    * {\n",
    "        border-radius: 12px;\n",
    "        margin: 2px;\n",
    "    }\n",
    "</style>\n",
    "## commit\n",
    "- registran los cambios que se realizaron en los archivosen comparacion con la version anterior\n",
    "## tipos de commit\n",
    "- `git commit` al realizar el commit, en VSC se abrira un archivo de texto en el cual escribiremos en la primera linea el titulo de lo que hemos modificado y abajo un mensaje descriptivo de los prosesos que hemos realizado\n",
    "- `git commit -m mensaje` hacer un commit agrando un mensaje rapido (no es la forma correcta de utilizar)\n",
    "- `git commit --amend` modificar un commit que ya fue efectuado\n",
    "- `git reset --soft HEAD~1` nos permite hacer un reset del registro del ultimo commit(el numero se refiere a cual de los commit queremos llegar)\n",
    "- `git log` ver historial de commit"
   ]
  },
  {
   "attachments": {},
   "cell_type": "markdown",
   "metadata": {},
   "source": [
    "<style type=\"text/css\">\n",
    "    * {\n",
    "        border-radius: 12px;\n",
    "        margin: 2px;\n",
    "    }\n",
    "</style>\n",
    "## crear repositorio en Git\n",
    "- nos ubicamos en nuestra carpeta con `cd directorio/` y luego creamos nuestra carpeta con `mkdir nombre-archivo`\n",
    "- `git init` inicializar un nuevo repositorio dentro de la carpeta asignada (en la consola debera aparecer en azul \"main\" a lado de nuestra direccion)\n",
    "- `git config --global init.defaultBranch nombre-rama` para cambiar el nombre que viene por defecto de la rama"
   ]
  },
  {
   "attachments": {},
   "cell_type": "markdown",
   "metadata": {},
   "source": [
    "<style type=\"text/css\">\n",
    "    * {\n",
    "        border-radius: 12px;\n",
    "        margin: 2px;\n",
    "    }\n",
    "</style>\n",
    "## las 3 areas de git\n",
    "- `directorio de trabajo` (modified) son los archivos en nuestra PC donde realizamos los cambios, aun no son parte del repositorio y no se ha añadido al area al staged\n",
    "- `area de trabajo` (staged) es el area donde preparamos los archivos, aun no son parte del repositorio y pueden ser modificados\n",
    "- ` repositorio` (committed) una ves realizado todos los cambios le damos un commit para efectuar los cambios en el repositorio que se encuentra en el directorio .git"
   ]
  },
  {
   "attachments": {},
   "cell_type": "markdown",
   "metadata": {},
   "source": [
    "<style type=\"text/css\">\n",
    "    * {\n",
    "        border-radius: 12px;\n",
    "        margin: 2px;\n",
    "    }\n",
    "</style>\n",
    "## estado de los archivos en VSC \n",
    "- `U` solamente esta en nuestro directorio de trabajo\n",
    "- `A` cuando hacemos un git add y pasa staged\n",
    "- `M` cuando el archivo a sido modificado previamente\n",
    "- `ninguna letra` cuando ya hicimos un commit y pasa a .git"
   ]
  },
  {
   "attachments": {},
   "cell_type": "markdown",
   "metadata": {},
   "source": [
    "<style type=\"text/css\">\n",
    "    * {\n",
    "        border-radius: 12px;\n",
    "        margin: 2px;\n",
    "    }\n",
    "</style>\n",
    "## ramas en git y main\n",
    "- las ramas se utilizan para poder trabajar en una version paralela a la que esta corriendo en vivo (para crear una nueva rama debemos estar en la rama de la cual vamos a hacer la copia), por lo general las ramas son temporales\n",
    "- `git branch nombre-rama` crear una nueva rama\n",
    "- `git branch` para ver las ramas existentes\n",
    "- `git checkout nombre-rama` cambiar de rama (asi no se efectuan cambios en la rama en vivo)\n",
    "- `git checkout -b nombre-rama` crear y cambiar al mismo tiempo a la nueva rama (es un atajo)\n",
    "- `git branch -m nombre-nuevo` para cambiar el nombre de la rama que estamos utilizando\n",
    "- `git branch -m nombre-actual nombre-nuevo` para cambiar el nombre de una rama sin estar en la actual\n",
    "- `git branch -d nombre-rama` eliminar una rama (solo funciona para repositorios locales, no los que ya estan en la nube)\n",
    "## fusionar ramas (merge)\n",
    "- combinar varias lineas de desarrollo independientes en una sola rama `(debes estar en la rama que recibira la fusion)`\n",
    "- `git merge nombre-rama` una ves trabajamos todo sobre nuestra segunda version nos vamos a la rama principal main y las combinamos\n"
   ]
  },
  {
   "attachments": {},
   "cell_type": "markdown",
   "metadata": {},
   "source": [
    "<style type=\"text/css\">\n",
    "    * {\n",
    "        border-radius: 12px;\n",
    "        margin: 2px;\n",
    "    }\n",
    "</style>\n",
    "## GitHub\n",
    "- servicio de hosting para almacenar proyectos de desarrollo de software y control de versiones usando Git\n",
    "## pasos\n",
    "- creaer cuenta en github\n",
    "- crear (new repository) marcar opcion read me donde va la descripcion del proyecto\n",
    "- modificar y eliminar el repositorio se hace desde (setings)\n",
    "- crear archivo desde github (add file)\n",
    "\n"
   ]
  },
  {
   "attachments": {},
   "cell_type": "markdown",
   "metadata": {},
   "source": [
    "<style type=\"text/css\">\n",
    "    * {\n",
    "        border-radius: 12px;\n",
    "        margin: 2px;\n",
    "    }\n",
    "</style>\n",
    "## clonar repositorio usando git bash\n",
    "- primero debemos posicionar la direccion de destino con `cd`\n",
    "- `git clone copia-de-la-dirreccion-http` la direccion la obtenemos del repositorio en github (click derecho para pegar)\n",
    "- una ves clonado podemos acceder al archivo con `cd`\n",
    "- `git remote` para saber el nombre que se le asigno a nuestro repositorio remoto\n",
    "- `git remote -v` nos muestra dos direcciones<br>\n",
    "-(fetch) direccion para obtener los cambios realizados por terceros en github\n",
    "-(push) direccion para subir nuestros cambios al repositorio en github\n"
   ]
  },
  {
   "attachments": {},
   "cell_type": "markdown",
   "metadata": {},
   "source": [
    "<style type=\"text/css\">\n",
    "    * {\n",
    "        border-radius: 12px;\n",
    "        margin: 2px;\n",
    "    }\n",
    "</style>\n",
    "## enviar y recibir cambios de GitHub\n",
    "- para los dos procesos se debe obtener primeramente un clon del repositorio en github\n",
    "## git push\n",
    "- `git push origin main` para enviar nuestros cambios a la rama principar del repositorio en github (ingresar token)\n",
    "- generar token de seguridad que nos pide al hacer push (setings/cuenta-debeloperSetings-personalAccesToken-tokenClassic) luego otorgar los permisos que sean necesarios y guardamos el token en un archivo de texto en un lugar seguro\n",
    "## git pull\n",
    "- `git pull origin main` para descargar el contenido de un repositorio de github para actualizar un repositorio local y tener la misma informacion"
   ]
  },
  {
   "attachments": {},
   "cell_type": "markdown",
   "metadata": {},
   "source": [
    "<style type=\"text/css\">\n",
    "    * {\n",
    "        border-radius: 12px;\n",
    "        margin: 2px;\n",
    "    }\n",
    "</style>\n",
    "## git pull vs git fetch\n",
    "- `git fetch origin:` solamente verifica los cambios realizado por terceros\n",
    "- `git pull origin main:` para enviar nuestros cambios a la rama principar del repositorio en github y fusionar con el proyecto global"
   ]
  },
  {
   "attachments": {},
   "cell_type": "markdown",
   "metadata": {},
   "source": [
    "<style type=\"text/css\">\n",
    "    * {\n",
    "        border-radius: 12px;\n",
    "        margin: 2px;\n",
    "    }\n",
    "</style>\n",
    "## subir repositorio local (git) a Git Hub\n",
    "- nos ubicamos en la direccion donde queremos que esten nuestros archivos `cd directorio/`\n",
    "- creamos una carpeta `mkdir nombre-archivo`\n",
    "- iniciamos nuevo repositorio dentro de la carpeta `git init`\n",
    "- en la carpeta creada armamos nuestro proyecto en `VSC`\n",
    "- agregamos los cambios `git add .`\n",
    "- enviamos los cambios a la carpeta .git `commit`\n",
    "## en git hub\n",
    "- creamos un repositorio vacio`new repository`\n",
    "- al crear el repositorio en git hub nos aparecera la opcion (quick setup-https) copiamos la direccion y pegamos en el siguiente codigo\n",
    "- `git remote add origin direccion-https` para enlazar repositorio local con git hub\n",
    "- `git remote -v` verificamos si se realizaron los cambios\n",
    "- `git push origin main` subimos nuestro repositorio local a git hub"
   ]
  },
  {
   "attachments": {},
   "cell_type": "markdown",
   "metadata": {},
   "source": [
    "<style type=\"text/css\">\n",
    "    * {\n",
    "        border-radius: 12px;\n",
    "        margin: 2px;\n",
    "    }\n",
    "</style>\n",
    "<div>\n",
    "\n",
    "## fork repository (bifurcar)\n",
    "- accion de crear copia del repositorio remoto de un tercero a nuestra cuenta de github\n",
    "- paso siguiente podemos clonar a nuestro repositorio local\n",
    "- consejo: siempre crear una rama para evitar trabajar en la rama principal main\n",
    "## pasos\n",
    "- entramos en la cuenta del usuario que queremos copiar\n",
    "- le damos a la opcion `fork` en la barra superior\n",
    "## pull request\n",
    "- solicitud de combinar tus cambios con el repositorio original del proyecto\n",
    "- para poder realizar el pull request se debe hacer un `git push origin main` para enviar nuestros cambios a nuetra cuenta de github\n",
    "- una ves en github nos da la opcion de `contribute` para hacer un pull request\n",
    "## sync fork\n",
    "- actualizar nuestro contenido a partir del repositorio original, los camibos se realizan solo en git hub por lo cual debemos realizar nuevamente un `git pull origin main` para tener los cambios \n",
    "\n",
    "</div>"
   ]
  },
  {
   "attachments": {},
   "cell_type": "markdown",
   "metadata": {},
   "source": [
    "## issues\n",
    "- nos permiten registrar tareas pendientes\n"
   ]
  },
  {
   "attachments": {},
   "cell_type": "markdown",
   "metadata": {},
   "source": [
    "## copiar una rama de hithub\n",
    "- primero clonar repositorio remoto\n",
    "- hacer un `git pull origin`\n",
    "- cambiar de rama con `git checkout nombre-rama`"
   ]
  }
 ],
 "metadata": {
  "language_info": {
   "name": "python"
  },
  "orig_nbformat": 4
 },
 "nbformat": 4,
 "nbformat_minor": 2
}
